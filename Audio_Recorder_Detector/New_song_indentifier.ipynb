{
 "cells": [
  {
   "cell_type": "code",
   "execution_count": 1,
   "metadata": {},
   "outputs": [
    {
     "name": "stdout",
     "output_type": "stream",
     "text": [
      "Requirement already satisfied: pydub in c:\\users\\ajayn\\appdata\\local\\packages\\pythonsoftwarefoundation.python.3.11_qbz5n2kfra8p0\\localcache\\local-packages\\python311\\site-packages (0.25.1)\n",
      "Requirement already satisfied: librosa in c:\\users\\ajayn\\appdata\\local\\packages\\pythonsoftwarefoundation.python.3.11_qbz5n2kfra8p0\\localcache\\local-packages\\python311\\site-packages (0.10.2.post1)\n",
      "Requirement already satisfied: matplotlib in c:\\users\\ajayn\\appdata\\local\\packages\\pythonsoftwarefoundation.python.3.11_qbz5n2kfra8p0\\localcache\\local-packages\\python311\\site-packages (3.9.2)\n",
      "Requirement already satisfied: pandas in c:\\users\\ajayn\\appdata\\local\\packages\\pythonsoftwarefoundation.python.3.11_qbz5n2kfra8p0\\localcache\\local-packages\\python311\\site-packages (1.5.3)\n",
      "Requirement already satisfied: audioread>=2.1.9 in c:\\users\\ajayn\\appdata\\local\\packages\\pythonsoftwarefoundation.python.3.11_qbz5n2kfra8p0\\localcache\\local-packages\\python311\\site-packages (from librosa) (3.0.1)\n",
      "Requirement already satisfied: numpy!=1.22.0,!=1.22.1,!=1.22.2,>=1.20.3 in c:\\users\\ajayn\\appdata\\local\\packages\\pythonsoftwarefoundation.python.3.11_qbz5n2kfra8p0\\localcache\\local-packages\\python311\\site-packages (from librosa) (1.24.4)\n",
      "Requirement already satisfied: scipy>=1.2.0 in c:\\users\\ajayn\\appdata\\local\\packages\\pythonsoftwarefoundation.python.3.11_qbz5n2kfra8p0\\localcache\\local-packages\\python311\\site-packages (from librosa) (1.10.1)\n",
      "Requirement already satisfied: scikit-learn>=0.20.0 in c:\\users\\ajayn\\appdata\\local\\packages\\pythonsoftwarefoundation.python.3.11_qbz5n2kfra8p0\\localcache\\local-packages\\python311\\site-packages (from librosa) (1.5.2)\n",
      "Requirement already satisfied: joblib>=0.14 in c:\\users\\ajayn\\appdata\\local\\packages\\pythonsoftwarefoundation.python.3.11_qbz5n2kfra8p0\\localcache\\local-packages\\python311\\site-packages (from librosa) (1.4.2)\n",
      "Requirement already satisfied: decorator>=4.3.0 in c:\\users\\ajayn\\appdata\\local\\packages\\pythonsoftwarefoundation.python.3.11_qbz5n2kfra8p0\\localcache\\local-packages\\python311\\site-packages (from librosa) (5.1.1)\n",
      "Requirement already satisfied: numba>=0.51.0 in c:\\users\\ajayn\\appdata\\local\\packages\\pythonsoftwarefoundation.python.3.11_qbz5n2kfra8p0\\localcache\\local-packages\\python311\\site-packages (from librosa) (0.60.0)\n",
      "Requirement already satisfied: soundfile>=0.12.1 in c:\\users\\ajayn\\appdata\\local\\packages\\pythonsoftwarefoundation.python.3.11_qbz5n2kfra8p0\\localcache\\local-packages\\python311\\site-packages (from librosa) (0.12.1)\n",
      "Requirement already satisfied: pooch>=1.1 in c:\\users\\ajayn\\appdata\\local\\packages\\pythonsoftwarefoundation.python.3.11_qbz5n2kfra8p0\\localcache\\local-packages\\python311\\site-packages (from librosa) (1.8.2)\n",
      "Requirement already satisfied: soxr>=0.3.2 in c:\\users\\ajayn\\appdata\\local\\packages\\pythonsoftwarefoundation.python.3.11_qbz5n2kfra8p0\\localcache\\local-packages\\python311\\site-packages (from librosa) (0.5.0.post1)\n",
      "Requirement already satisfied: typing-extensions>=4.1.1 in c:\\users\\ajayn\\appdata\\local\\packages\\pythonsoftwarefoundation.python.3.11_qbz5n2kfra8p0\\localcache\\local-packages\\python311\\site-packages (from librosa) (4.12.2)\n",
      "Requirement already satisfied: lazy-loader>=0.1 in c:\\users\\ajayn\\appdata\\local\\packages\\pythonsoftwarefoundation.python.3.11_qbz5n2kfra8p0\\localcache\\local-packages\\python311\\site-packages (from librosa) (0.4)\n",
      "Requirement already satisfied: msgpack>=1.0 in c:\\users\\ajayn\\appdata\\local\\packages\\pythonsoftwarefoundation.python.3.11_qbz5n2kfra8p0\\localcache\\local-packages\\python311\\site-packages (from librosa) (1.1.0)\n",
      "Requirement already satisfied: contourpy>=1.0.1 in c:\\users\\ajayn\\appdata\\local\\packages\\pythonsoftwarefoundation.python.3.11_qbz5n2kfra8p0\\localcache\\local-packages\\python311\\site-packages (from matplotlib) (1.3.0)\n",
      "Requirement already satisfied: cycler>=0.10 in c:\\users\\ajayn\\appdata\\local\\packages\\pythonsoftwarefoundation.python.3.11_qbz5n2kfra8p0\\localcache\\local-packages\\python311\\site-packages (from matplotlib) (0.12.1)\n",
      "Requirement already satisfied: fonttools>=4.22.0 in c:\\users\\ajayn\\appdata\\local\\packages\\pythonsoftwarefoundation.python.3.11_qbz5n2kfra8p0\\localcache\\local-packages\\python311\\site-packages (from matplotlib) (4.54.1)\n",
      "Requirement already satisfied: kiwisolver>=1.3.1 in c:\\users\\ajayn\\appdata\\local\\packages\\pythonsoftwarefoundation.python.3.11_qbz5n2kfra8p0\\localcache\\local-packages\\python311\\site-packages (from matplotlib) (1.4.7)\n",
      "Requirement already satisfied: packaging>=20.0 in c:\\users\\ajayn\\appdata\\local\\packages\\pythonsoftwarefoundation.python.3.11_qbz5n2kfra8p0\\localcache\\local-packages\\python311\\site-packages (from matplotlib) (23.2)\n",
      "Requirement already satisfied: pillow>=8 in c:\\users\\ajayn\\appdata\\local\\packages\\pythonsoftwarefoundation.python.3.11_qbz5n2kfra8p0\\localcache\\local-packages\\python311\\site-packages (from matplotlib) (11.0.0)\n",
      "Requirement already satisfied: pyparsing>=2.3.1 in c:\\users\\ajayn\\appdata\\local\\packages\\pythonsoftwarefoundation.python.3.11_qbz5n2kfra8p0\\localcache\\local-packages\\python311\\site-packages (from matplotlib) (3.2.0)\n",
      "Requirement already satisfied: python-dateutil>=2.7 in c:\\users\\ajayn\\appdata\\local\\packages\\pythonsoftwarefoundation.python.3.11_qbz5n2kfra8p0\\localcache\\local-packages\\python311\\site-packages (from matplotlib) (2.8.2)\n",
      "Requirement already satisfied: pytz>=2020.1 in c:\\users\\ajayn\\appdata\\local\\packages\\pythonsoftwarefoundation.python.3.11_qbz5n2kfra8p0\\localcache\\local-packages\\python311\\site-packages (from pandas) (2024.2)\n",
      "Requirement already satisfied: llvmlite<0.44,>=0.43.0dev0 in c:\\users\\ajayn\\appdata\\local\\packages\\pythonsoftwarefoundation.python.3.11_qbz5n2kfra8p0\\localcache\\local-packages\\python311\\site-packages (from numba>=0.51.0->librosa) (0.43.0)\n",
      "Requirement already satisfied: platformdirs>=2.5.0 in c:\\users\\ajayn\\appdata\\local\\packages\\pythonsoftwarefoundation.python.3.11_qbz5n2kfra8p0\\localcache\\local-packages\\python311\\site-packages (from pooch>=1.1->librosa) (4.1.0)\n",
      "Requirement already satisfied: requests>=2.19.0 in c:\\users\\ajayn\\appdata\\local\\packages\\pythonsoftwarefoundation.python.3.11_qbz5n2kfra8p0\\localcache\\local-packages\\python311\\site-packages (from pooch>=1.1->librosa) (2.31.0)\n",
      "Requirement already satisfied: six>=1.5 in c:\\users\\ajayn\\appdata\\local\\packages\\pythonsoftwarefoundation.python.3.11_qbz5n2kfra8p0\\localcache\\local-packages\\python311\\site-packages (from python-dateutil>=2.7->matplotlib) (1.16.0)\n",
      "Requirement already satisfied: threadpoolctl>=3.1.0 in c:\\users\\ajayn\\appdata\\local\\packages\\pythonsoftwarefoundation.python.3.11_qbz5n2kfra8p0\\localcache\\local-packages\\python311\\site-packages (from scikit-learn>=0.20.0->librosa) (3.5.0)\n",
      "Requirement already satisfied: cffi>=1.0 in c:\\users\\ajayn\\appdata\\local\\packages\\pythonsoftwarefoundation.python.3.11_qbz5n2kfra8p0\\localcache\\local-packages\\python311\\site-packages (from soundfile>=0.12.1->librosa) (1.17.1)\n",
      "Requirement already satisfied: pycparser in c:\\users\\ajayn\\appdata\\local\\packages\\pythonsoftwarefoundation.python.3.11_qbz5n2kfra8p0\\localcache\\local-packages\\python311\\site-packages (from cffi>=1.0->soundfile>=0.12.1->librosa) (2.22)\n",
      "Requirement already satisfied: charset-normalizer<4,>=2 in c:\\users\\ajayn\\appdata\\local\\packages\\pythonsoftwarefoundation.python.3.11_qbz5n2kfra8p0\\localcache\\local-packages\\python311\\site-packages (from requests>=2.19.0->pooch>=1.1->librosa) (3.1.0)\n",
      "Requirement already satisfied: idna<4,>=2.5 in c:\\users\\ajayn\\appdata\\local\\packages\\pythonsoftwarefoundation.python.3.11_qbz5n2kfra8p0\\localcache\\local-packages\\python311\\site-packages (from requests>=2.19.0->pooch>=1.1->librosa) (3.4)\n",
      "Requirement already satisfied: urllib3<3,>=1.21.1 in c:\\users\\ajayn\\appdata\\local\\packages\\pythonsoftwarefoundation.python.3.11_qbz5n2kfra8p0\\localcache\\local-packages\\python311\\site-packages (from requests>=2.19.0->pooch>=1.1->librosa) (2.0.3)\n",
      "Requirement already satisfied: certifi>=2017.4.17 in c:\\users\\ajayn\\appdata\\local\\packages\\pythonsoftwarefoundation.python.3.11_qbz5n2kfra8p0\\localcache\\local-packages\\python311\\site-packages (from requests>=2.19.0->pooch>=1.1->librosa) (2023.5.7)\n"
     ]
    }
   ],
   "source": [
    "!pip install pydub librosa matplotlib pandas"
   ]
  },
  {
   "cell_type": "code",
   "execution_count": 2,
   "metadata": {},
   "outputs": [
    {
     "name": "stdout",
     "output_type": "stream",
     "text": [
      "Requirement already satisfied: FuzzyTM in c:\\users\\ajayn\\appdata\\local\\packages\\pythonsoftwarefoundation.python.3.11_qbz5n2kfra8p0\\localcache\\local-packages\\python311\\site-packages (2.0.9)\n",
      "Requirement already satisfied: numpy in c:\\users\\ajayn\\appdata\\local\\packages\\pythonsoftwarefoundation.python.3.11_qbz5n2kfra8p0\\localcache\\local-packages\\python311\\site-packages (from FuzzyTM) (1.24.4)\n",
      "Requirement already satisfied: pandas in c:\\users\\ajayn\\appdata\\local\\packages\\pythonsoftwarefoundation.python.3.11_qbz5n2kfra8p0\\localcache\\local-packages\\python311\\site-packages (from FuzzyTM) (1.5.3)\n",
      "Requirement already satisfied: scipy in c:\\users\\ajayn\\appdata\\local\\packages\\pythonsoftwarefoundation.python.3.11_qbz5n2kfra8p0\\localcache\\local-packages\\python311\\site-packages (from FuzzyTM) (1.10.1)\n",
      "Requirement already satisfied: pyfume in c:\\users\\ajayn\\appdata\\local\\packages\\pythonsoftwarefoundation.python.3.11_qbz5n2kfra8p0\\localcache\\local-packages\\python311\\site-packages (from FuzzyTM) (0.3.4)\n",
      "Requirement already satisfied: python-dateutil>=2.8.1 in c:\\users\\ajayn\\appdata\\local\\packages\\pythonsoftwarefoundation.python.3.11_qbz5n2kfra8p0\\localcache\\local-packages\\python311\\site-packages (from pandas->FuzzyTM) (2.8.2)\n",
      "Requirement already satisfied: pytz>=2020.1 in c:\\users\\ajayn\\appdata\\local\\packages\\pythonsoftwarefoundation.python.3.11_qbz5n2kfra8p0\\localcache\\local-packages\\python311\\site-packages (from pandas->FuzzyTM) (2024.2)\n",
      "Requirement already satisfied: simpful==2.12.0 in c:\\users\\ajayn\\appdata\\local\\packages\\pythonsoftwarefoundation.python.3.11_qbz5n2kfra8p0\\localcache\\local-packages\\python311\\site-packages (from pyfume->FuzzyTM) (2.12.0)\n",
      "Requirement already satisfied: fst-pso==1.8.1 in c:\\users\\ajayn\\appdata\\local\\packages\\pythonsoftwarefoundation.python.3.11_qbz5n2kfra8p0\\localcache\\local-packages\\python311\\site-packages (from pyfume->FuzzyTM) (1.8.1)\n",
      "Requirement already satisfied: miniful in c:\\users\\ajayn\\appdata\\local\\packages\\pythonsoftwarefoundation.python.3.11_qbz5n2kfra8p0\\localcache\\local-packages\\python311\\site-packages (from fst-pso==1.8.1->pyfume->FuzzyTM) (0.0.6)\n",
      "Requirement already satisfied: six>=1.5 in c:\\users\\ajayn\\appdata\\local\\packages\\pythonsoftwarefoundation.python.3.11_qbz5n2kfra8p0\\localcache\\local-packages\\python311\\site-packages (from python-dateutil>=2.8.1->pandas->FuzzyTM) (1.16.0)\n",
      "Requirement already satisfied: blosc2 in c:\\users\\ajayn\\appdata\\local\\packages\\pythonsoftwarefoundation.python.3.11_qbz5n2kfra8p0\\localcache\\local-packages\\python311\\site-packages (2.7.1)\n",
      "Requirement already satisfied: numpy>=1.21 in c:\\users\\ajayn\\appdata\\local\\packages\\pythonsoftwarefoundation.python.3.11_qbz5n2kfra8p0\\localcache\\local-packages\\python311\\site-packages (from blosc2) (1.24.4)\n",
      "Requirement already satisfied: ndindex>=1.4 in c:\\users\\ajayn\\appdata\\local\\packages\\pythonsoftwarefoundation.python.3.11_qbz5n2kfra8p0\\localcache\\local-packages\\python311\\site-packages (from blosc2) (1.9.2)\n",
      "Requirement already satisfied: msgpack in c:\\users\\ajayn\\appdata\\local\\packages\\pythonsoftwarefoundation.python.3.11_qbz5n2kfra8p0\\localcache\\local-packages\\python311\\site-packages (from blosc2) (1.1.0)\n",
      "Requirement already satisfied: numexpr in c:\\users\\ajayn\\appdata\\local\\packages\\pythonsoftwarefoundation.python.3.11_qbz5n2kfra8p0\\localcache\\local-packages\\python311\\site-packages (from blosc2) (2.10.2)\n",
      "Requirement already satisfied: py-cpuinfo in c:\\users\\ajayn\\appdata\\local\\packages\\pythonsoftwarefoundation.python.3.11_qbz5n2kfra8p0\\localcache\\local-packages\\python311\\site-packages (from blosc2) (9.0.0)\n",
      "Requirement already satisfied: cython in c:\\users\\ajayn\\appdata\\local\\packages\\pythonsoftwarefoundation.python.3.11_qbz5n2kfra8p0\\localcache\\local-packages\\python311\\site-packages (3.0.11)\n"
     ]
    }
   ],
   "source": [
    "!pip install FuzzyTM\n",
    "!pip install blosc2\n",
    "!pip install cython"
   ]
  },
  {
   "cell_type": "code",
   "execution_count": 10,
   "metadata": {},
   "outputs": [
    {
     "name": "stdout",
     "output_type": "stream",
     "text": [
      "Converting: C:\\Audio_Recorder_Detector\\input_mp3_folder\\Journey - Don't Stop Believin' (Live 1981_ Escape Tour - 2022 HD Remaster).mp3 -> C:\\Audio_Recorder_Detector\\output_wav_folder\\Journey - Don't Stop Believin' (Live 1981_ Escape Tour - 2022 HD Remaster).wav\n",
      "Error converting Journey - Don't Stop Believin' (Live 1981_ Escape Tour - 2022 HD Remaster).mp3: [WinError 2] The system cannot find the file specified\n",
      "Converting: C:\\Audio_Recorder_Detector\\input_mp3_folder\\Juice WRLD - Lucid Dreams (Official Music Video).mp3 -> C:\\Audio_Recorder_Detector\\output_wav_folder\\Juice WRLD - Lucid Dreams (Official Music Video).wav\n",
      "Error converting Juice WRLD - Lucid Dreams (Official Music Video).mp3: [WinError 2] The system cannot find the file specified\n",
      "Converting: C:\\Audio_Recorder_Detector\\input_mp3_folder\\Lil Uzi Vert - 20 Min (1).mp3 -> C:\\Audio_Recorder_Detector\\output_wav_folder\\Lil Uzi Vert - 20 Min (1).wav\n",
      "Error converting Lil Uzi Vert - 20 Min (1).mp3: [WinError 2] The system cannot find the file specified\n",
      "Converting: C:\\Audio_Recorder_Detector\\input_mp3_folder\\New Divide (Official Music Video) [4K Upgrade] - Linkin Park.mp3 -> C:\\Audio_Recorder_Detector\\output_wav_folder\\New Divide (Official Music Video) [4K Upgrade] - Linkin Park.wav\n",
      "Error converting New Divide (Official Music Video) [4K Upgrade] - Linkin Park.mp3: [WinError 2] The system cannot find the file specified\n",
      "Converting: C:\\Audio_Recorder_Detector\\input_mp3_folder\\Survivor - Eye Of The Tiger (Official HD Video).mp3 -> C:\\Audio_Recorder_Detector\\output_wav_folder\\Survivor - Eye Of The Tiger (Official HD Video).wav\n",
      "Error converting Survivor - Eye Of The Tiger (Official HD Video).mp3: [WinError 2] The system cannot find the file specified\n"
     ]
    }
   ],
   "source": [
    "from pydub import AudioSegment\n",
    "import os\n",
    "\n",
    "def convert_mp3_to_wav(input_folder, output_folder):\n",
    "    \"\"\"\n",
    "    Converts all MP3 files in the input folder to WAV format and saves them in the output folder.\n",
    "    \"\"\"\n",
    "    # Ensure output folder exists\n",
    "    if not os.path.exists(output_folder):\n",
    "        os.makedirs(output_folder)\n",
    "    \n",
    "    for file_name in os.listdir(input_folder):\n",
    "        if file_name.endswith(\".mp3\"):\n",
    "            try:\n",
    "                # Construct full file paths\n",
    "                mp3_path = os.path.join(input_folder, file_name)\n",
    "                wav_file_name = file_name.replace(\".mp3\", \".wav\")\n",
    "                wav_path = os.path.join(output_folder, wav_file_name)\n",
    "                \n",
    "                # Convert MP3 to WAV\n",
    "                print(f\"Converting: {mp3_path} -> {wav_path}\")\n",
    "                audio = AudioSegment.from_mp3(mp3_path)\n",
    "                audio.export(wav_path, format=\"wav\")\n",
    "                print(f\"Converted and saved: {wav_path}\")\n",
    "            except Exception as e:\n",
    "                print(f\"Error converting {file_name}: {e}\")\n",
    "\n",
    "# Paths for input and output folders\n",
    "input_folder = r\"C:\\Audio_Recorder_Detector\\input_mp3_folder\"\n",
    "output_folder = r\"C:\\Audio_Recorder_Detector\\output_wav_folder\"\n",
    "\n",
    "# Run the conversion\n",
    "convert_mp3_to_wav(input_folder, output_folder)\n"
   ]
  },
  {
   "cell_type": "code",
   "execution_count": 4,
   "metadata": {},
   "outputs": [
    {
     "name": "stdout",
     "output_type": "stream",
     "text": [
      "Normalized and saved: Journey - Don't Stop Believin' (Live 1981_ Escape Tour - 2022 HD Remaster).wav\n",
      "Normalized and saved: Juice WRLD - Lucid Dreams (Official Music Video).wav\n",
      "Normalized and saved: New Divide (Official Music Video) [4K Upgrade] - Linkin Park.wav\n"
     ]
    }
   ],
   "source": [
    "from pydub import AudioSegment\n",
    "import os\n",
    "\n",
    "def normalize_audio(input_folder, output_folder):\n",
    "    \"\"\"\n",
    "    Normalizes all WAV files in the input folder and saves them to the output folder.\n",
    "    Ensures consistent amplitude levels for correlation.\n",
    "    \"\"\"\n",
    "    if not os.path.exists(output_folder):\n",
    "        os.makedirs(output_folder)\n",
    "    \n",
    "    for file_name in os.listdir(input_folder):\n",
    "        if file_name.endswith(\".wav\"):\n",
    "            try:\n",
    "                input_path = os.path.join(input_folder, file_name)\n",
    "                output_path = os.path.join(output_folder, file_name)\n",
    "\n",
    "                # Load the audio file\n",
    "                audio = AudioSegment.from_wav(input_path)\n",
    "\n",
    "                # Normalize audio\n",
    "                normalized_audio = audio.apply_gain(-audio.dBFS)\n",
    "\n",
    "                # Export normalized audio\n",
    "                normalized_audio.export(output_path, format=\"wav\")\n",
    "                print(f\"Normalized and saved: {file_name}\")\n",
    "            except Exception as e:\n",
    "                print(f\"Error normalizing {file_name}: {e}\")\n",
    "\n",
    "# Example usage\n",
    "normalize_audio(\"output_wav_folder\", \"normalized_wav_folder\")\n"
   ]
  },
  {
   "cell_type": "code",
   "execution_count": null,
   "metadata": {},
   "outputs": [],
   "source": [
    "from pydub import AudioSegment\n",
    "from pydub.utils import make_chunks\n",
    "import os\n",
    "\n",
    "def split_audio_by_class(input_folder, output_folder, chunk_length_ms=3000):\n",
    "    \"\"\"\n",
    "    Splits audio files into smaller chunks and organizes them into class-based directories.\n",
    "    \"\"\"\n",
    "    if not os.path.exists(output_folder):\n",
    "        os.makedirs(output_folder)\n",
    "    \n",
    "    for file_name in os.listdir(input_folder):\n",
    "        if file_name.endswith(\".wav\"):\n",
    "            try:\n",
    "                # Create a class-specific subdirectory\n",
    "                class_folder = os.path.join(output_folder, file_name[:-4])  # Use the file name as the class\n",
    "                if not os.path.exists(class_folder):\n",
    "                    os.makedirs(class_folder)\n",
    "                \n",
    "                # Process the file\n",
    "                file_path = os.path.join(input_folder, file_name)\n",
    "                audio = AudioSegment.from_file(file_path)\n",
    "                chunks = make_chunks(audio, chunk_length_ms)\n",
    "\n",
    "                # Save chunks in the class directory\n",
    "                for i, chunk in enumerate(chunks):\n",
    "                    chunk_name = f\"{file_name[:-4]}_chunk{i}.wav\"\n",
    "                    chunk.export(os.path.join(class_folder, chunk_name), format=\"wav\")\n",
    "                \n",
    "                print(f\"Processed {file_name}, created {len(chunks)} chunks.\")\n",
    "            \n",
    "            except Exception as e:\n",
    "                print(f\"Error processing {file_name}: {e}\")\n",
    "        else:\n",
    "            print(f\"Skipped non-WAV file: {file_name}\")\n",
    "\n",
    "# Example usage\n",
    "split_audio_by_class(\"output_wav_folder\", \"output_chunks_folder\", chunk_length_ms=3000)\n"
   ]
  }
 ],
 "metadata": {
  "kernelspec": {
   "display_name": "Python 3",
   "language": "python",
   "name": "python3"
  },
  "language_info": {
   "codemirror_mode": {
    "name": "ipython",
    "version": 3
   },
   "file_extension": ".py",
   "mimetype": "text/x-python",
   "name": "python",
   "nbconvert_exporter": "python",
   "pygments_lexer": "ipython3",
   "version": "3.11.9"
  }
 },
 "nbformat": 4,
 "nbformat_minor": 2
}
